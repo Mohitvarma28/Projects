{
  "nbformat": 4,
  "nbformat_minor": 0,
  "metadata": {
    "colab": {
      "provenance": []
    },
    "kernelspec": {
      "name": "python3",
      "display_name": "Python 3"
    },
    "language_info": {
      "name": "python"
    }
  },
  "cells": [
    {
      "cell_type": "code",
      "execution_count": null,
      "metadata": {
        "id": "PvjGx6jakqlT"
      },
      "outputs": [],
      "source": [
        "import random\n",
        "\n",
        "def recommend_car(bot_message):\n",
        "    greetings = [\"Hi!\", \"Hello!\", \"Hey there!\"]\n",
        "    bot_greeting = random.choice(greetings)\n",
        "    user_response = input(bot_greeting + \" \" + bot_message + \" \")\n",
        "    \n",
        "    # Process user response and provide recommendations\n",
        "    # Here, you can use any recommender algorithm or logic to generate car recommendations based on user preferences.\n",
        "    # You can consider factors like budget, brand, type (sedan, SUV, etc.), fuel efficiency, and features.\n",
        "    # For simplicity, let's assume we have a pre-defined list of recommended cars.\n",
        "    \n",
        "    recommended_cars = [\"Toyota Camry\", \"Honda Civic\", \"Ford Mustang\", \"BMW 3 Series\", \"Tesla Model 3\"]\n",
        "    bot_response = \"Based on your preferences, I recommend the following cars:\\n\"\n",
        "    for car in recommended_cars:\n",
        "        bot_response += \"- \" + car + \"\\n\"\n",
        "    \n",
        "    return bot_response\n",
        "\n",
        "# Main interaction loop\n",
        "def chat():\n",
        "    bot_message = \"What kind of car are you looking for?\"\n",
        "    while True:\n",
        "        user_input = input()\n",
        "        bot_response = recommend_car(bot_message)\n",
        "        print(bot_response)\n",
        "        bot_message = \"Do you have any other preferences?\"\n",
        "\n",
        "# Start the conversation\n",
        "chat()\n"
      ]
    }
  ]
}